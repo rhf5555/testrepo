{
 "cells": [
  {
   "cell_type": "markdown",
   "id": "26af38b2-8a4d-4c51-8278-96aec55ac5c8",
   "metadata": {},
   "source": [
    "# Data science Tools and Ecosystem"
   ]
  },
  {
   "cell_type": "markdown",
   "id": "55b071a2-76cd-42cb-bf27-dab109c63321",
   "metadata": {},
   "source": [
    "# Introduction\r\n",
    "\r\n",
    "In this notebook, Data Science Tools and Ecosystem are summarized.\r\n"
   ]
  },
  {
   "cell_type": "markdown",
   "id": "d94b9d96-f4e0-46d9-aaa6-0ad2d9c5e4f2",
   "metadata": {},
   "source": [
    "Some of the popular languages that Data Scientists use are:\n",
    "1. Python\n",
    "2. R\n",
    "3. SQL\n",
    "4. Scala  \n",
    "5. Julia\r\n"
   ]
  },
  {
   "cell_type": "markdown",
   "id": "98033f32-a1f4-48ec-9c1d-0cddb2be6d7d",
   "metadata": {},
   "source": [
    "some of the commonly used libraries used by Data Scientists include:\r",
    "1. Pandas\n",
    "2. NumPy\n",
    "3. Matplotlib\n",
    "4. Scikit-learn\r\n"
   ]
  },
  {
   "cell_type": "markdown",
   "id": "429ae634-c5bb-44bd-a69f-5dbbf18193db",
   "metadata": {},
   "source": [
    "| Data Science Tools       |\r\n",
    "|--------------------------|\r\n",
    "| Jupyter Notebook         |\r\n",
    "| RStudio                  |\r\n",
    "| Apache Zeppelin          |\r\n"
   ]
  },
  {
   "cell_type": "markdown",
   "id": "ac14b2a5-079e-46f7-930e-9f3fc05fb2ca",
   "metadata": {},
   "source": [
    "### Below are a few examples of evaluating arithmetic expressions in Python ."
   ]
  },
  {
   "cell_type": "code",
   "execution_count": 26,
   "id": "fc4c4adb-3cd4-4070-b185-0ead348c1493",
   "metadata": {},
   "outputs": [
    {
     "data": {
      "text/plain": [
       "17"
      ]
     },
     "execution_count": 26,
     "metadata": {},
     "output_type": "execute_result"
    }
   ],
   "source": [
    "# This is a simple arithmetic expression to multiply then add integers.\n",
    "result = (3 * 4) + 5\n",
    "result"
   ]
  },
  {
   "cell_type": "code",
   "execution_count": 27,
   "id": "70743626-4c48-46c0-af81-a496c9c4ef64",
   "metadata": {},
   "outputs": [
    {
     "data": {
      "text/plain": [
       "3.3333333333333335"
      ]
     },
     "execution_count": 27,
     "metadata": {},
     "output_type": "execute_result"
    }
   ],
   "source": [
    "# This will convert 200 minutes to hours by dividing by 60.\n",
    "minutes = 200\n",
    "hours = minutes / 60\n",
    "hours"
   ]
  },
  {
   "cell_type": "markdown",
   "id": "12184bf6-a4a8-4cb8-85fd-58587dd8e75f",
   "metadata": {},
   "source": [
    "**Objectives:**\n",
    "- Define Data science and explain why data science is considered the most in demand jop in the 21st century.\n",
    "- Tools for data science.\n",
    "- popular programming languages for Data Science.\n",
    "- Databases and SQL for data science whith python.\n",
    "- Data analysis with python."
   ]
  },
  {
   "cell_type": "markdown",
   "id": "d11e87c6-7ef3-4391-bfcb-4d78ad5f95a9",
   "metadata": {},
   "source": [
    "## Author\n",
    "Rahaf "
   ]
  },
  {
   "cell_type": "code",
   "execution_count": null,
   "id": "05b281b2-e905-4f46-9da8-cfae7378e359",
   "metadata": {},
   "outputs": [],
   "source": []
  }
 ],
 "metadata": {
  "kernelspec": {
   "display_name": "Python 3 (ipykernel)",
   "language": "python",
   "name": "python3"
  },
  "language_info": {
   "codemirror_mode": {
    "name": "ipython",
    "version": 3
   },
   "file_extension": ".py",
   "mimetype": "text/x-python",
   "name": "python",
   "nbconvert_exporter": "python",
   "pygments_lexer": "ipython3",
   "version": "3.12.4"
  }
 },
 "nbformat": 4,
 "nbformat_minor": 5
}
